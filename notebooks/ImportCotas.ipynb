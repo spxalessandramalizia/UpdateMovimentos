{
 "metadata": {
  "language_info": {
   "codemirror_mode": {
    "name": "ipython",
    "version": 3
   },
   "file_extension": ".py",
   "mimetype": "text/x-python",
   "name": "python",
   "nbconvert_exporter": "python",
   "pygments_lexer": "ipython3",
   "version": 3
  },
  "orig_nbformat": 2,
  "kernelspec": {
   "name": "python_defaultSpec_1596753187562",
   "display_name": "Python 3.8.5 64-bit ('venv': venv)"
  }
 },
 "nbformat": 4,
 "nbformat_minor": 2,
 "cells": [
  {
   "cell_type": "code",
   "execution_count": 2,
   "metadata": {},
   "outputs": [],
   "source": [
    "import pandas as pd"
   ]
  },
  {
   "cell_type": "code",
   "execution_count": 26,
   "metadata": {},
   "outputs": [
    {
     "output_type": "execute_result",
     "data": {
      "text/plain": "       COD  COTA D-1        DATA\n0    61921  3.441227  2020-08-04\n1    61922  3.284017  2020-08-04\n2    61923  3.021783  2020-08-04\n3    61981  3.880689  2020-08-04\n4    61984  6.533211  2020-08-04\n..     ...       ...         ...\n106  64643  1.153676  2020-08-04\n107  64425  1.010060  2020-08-04\n108  64678  1.017226  2020-08-04\n109  64607  1.015937  2020-08-04\n110  64496  1.000948  2020-08-04\n\n[111 rows x 3 columns]",
      "text/html": "<div>\n<style scoped>\n    .dataframe tbody tr th:only-of-type {\n        vertical-align: middle;\n    }\n\n    .dataframe tbody tr th {\n        vertical-align: top;\n    }\n\n    .dataframe thead th {\n        text-align: right;\n    }\n</style>\n<table border=\"1\" class=\"dataframe\">\n  <thead>\n    <tr style=\"text-align: right;\">\n      <th></th>\n      <th>COD</th>\n      <th>COTA D-1</th>\n      <th>DATA</th>\n    </tr>\n  </thead>\n  <tbody>\n    <tr>\n      <th>0</th>\n      <td>61921</td>\n      <td>3.441227</td>\n      <td>2020-08-04</td>\n    </tr>\n    <tr>\n      <th>1</th>\n      <td>61922</td>\n      <td>3.284017</td>\n      <td>2020-08-04</td>\n    </tr>\n    <tr>\n      <th>2</th>\n      <td>61923</td>\n      <td>3.021783</td>\n      <td>2020-08-04</td>\n    </tr>\n    <tr>\n      <th>3</th>\n      <td>61981</td>\n      <td>3.880689</td>\n      <td>2020-08-04</td>\n    </tr>\n    <tr>\n      <th>4</th>\n      <td>61984</td>\n      <td>6.533211</td>\n      <td>2020-08-04</td>\n    </tr>\n    <tr>\n      <th>...</th>\n      <td>...</td>\n      <td>...</td>\n      <td>...</td>\n    </tr>\n    <tr>\n      <th>106</th>\n      <td>64643</td>\n      <td>1.153676</td>\n      <td>2020-08-04</td>\n    </tr>\n    <tr>\n      <th>107</th>\n      <td>64425</td>\n      <td>1.010060</td>\n      <td>2020-08-04</td>\n    </tr>\n    <tr>\n      <th>108</th>\n      <td>64678</td>\n      <td>1.017226</td>\n      <td>2020-08-04</td>\n    </tr>\n    <tr>\n      <th>109</th>\n      <td>64607</td>\n      <td>1.015937</td>\n      <td>2020-08-04</td>\n    </tr>\n    <tr>\n      <th>110</th>\n      <td>64496</td>\n      <td>1.000948</td>\n      <td>2020-08-04</td>\n    </tr>\n  </tbody>\n</table>\n<p>111 rows × 3 columns</p>\n</div>"
     },
     "metadata": {},
     "execution_count": 26
    }
   ],
   "source": [
    "df = pd.read_excel('O:\\\\COTAS SPX - ENVIO CLIENTE\\\\ENVIO-COTAS.xlsm', sheet_name = 'fundos')\n",
    "df = df[['COD', 'COTA D-1']]\n",
    "df['DATA'] = '2020-08-04'\n",
    "df"
   ]
  },
  {
   "cell_type": "code",
   "execution_count": 27,
   "metadata": {},
   "outputs": [
    {
     "output_type": "execute_result",
     "data": {
      "text/plain": "     CODFUND        DATA      COTA\n0      61921  2020-08-04  3.441227\n1      61922  2020-08-04  3.284017\n2      61923  2020-08-04  3.021783\n3      61981  2020-08-04  3.880689\n4      61984  2020-08-04  6.533211\n..       ...         ...       ...\n106    64643  2020-08-04  1.153676\n107    64425  2020-08-04  1.010060\n108    64678  2020-08-04  1.017226\n109    64607  2020-08-04  1.015937\n110    64496  2020-08-04  1.000948\n\n[111 rows x 3 columns]",
      "text/html": "<div>\n<style scoped>\n    .dataframe tbody tr th:only-of-type {\n        vertical-align: middle;\n    }\n\n    .dataframe tbody tr th {\n        vertical-align: top;\n    }\n\n    .dataframe thead th {\n        text-align: right;\n    }\n</style>\n<table border=\"1\" class=\"dataframe\">\n  <thead>\n    <tr style=\"text-align: right;\">\n      <th></th>\n      <th>CODFUND</th>\n      <th>DATA</th>\n      <th>COTA</th>\n    </tr>\n  </thead>\n  <tbody>\n    <tr>\n      <th>0</th>\n      <td>61921</td>\n      <td>2020-08-04</td>\n      <td>3.441227</td>\n    </tr>\n    <tr>\n      <th>1</th>\n      <td>61922</td>\n      <td>2020-08-04</td>\n      <td>3.284017</td>\n    </tr>\n    <tr>\n      <th>2</th>\n      <td>61923</td>\n      <td>2020-08-04</td>\n      <td>3.021783</td>\n    </tr>\n    <tr>\n      <th>3</th>\n      <td>61981</td>\n      <td>2020-08-04</td>\n      <td>3.880689</td>\n    </tr>\n    <tr>\n      <th>4</th>\n      <td>61984</td>\n      <td>2020-08-04</td>\n      <td>6.533211</td>\n    </tr>\n    <tr>\n      <th>...</th>\n      <td>...</td>\n      <td>...</td>\n      <td>...</td>\n    </tr>\n    <tr>\n      <th>106</th>\n      <td>64643</td>\n      <td>2020-08-04</td>\n      <td>1.153676</td>\n    </tr>\n    <tr>\n      <th>107</th>\n      <td>64425</td>\n      <td>2020-08-04</td>\n      <td>1.010060</td>\n    </tr>\n    <tr>\n      <th>108</th>\n      <td>64678</td>\n      <td>2020-08-04</td>\n      <td>1.017226</td>\n    </tr>\n    <tr>\n      <th>109</th>\n      <td>64607</td>\n      <td>2020-08-04</td>\n      <td>1.015937</td>\n    </tr>\n    <tr>\n      <th>110</th>\n      <td>64496</td>\n      <td>2020-08-04</td>\n      <td>1.000948</td>\n    </tr>\n  </tbody>\n</table>\n<p>111 rows × 3 columns</p>\n</div>"
     },
     "metadata": {},
     "execution_count": 27
    }
   ],
   "source": [
    "df.rename(columns={'COD':'CODFUND', 'COTA D-1':'COTA'}, inplace=True)\n",
    "df = df[['CODFUND','DATA','COTA']]\n",
    "df"
   ]
  },
  {
   "cell_type": "code",
   "execution_count": 22,
   "metadata": {},
   "outputs": [
    {
     "output_type": "execute_result",
     "data": {
      "text/plain": "     CODFUND        DATA      COTA\n0      61921  2020-08-04  3.441227\n1      61922  2020-08-04  3.284017\n3      61981  2020-08-04  3.880689\n4      61984  2020-08-04  6.533211\n5      62006  2020-08-04  2.430590\n..       ...         ...       ...\n106    64643  2020-08-04  1.153676\n107    64425  2020-08-04  1.010060\n108    64678  2020-08-04  1.017226\n109    64607  2020-08-04  1.015937\n110    64496  2020-08-04  1.000948\n\n[109 rows x 3 columns]",
      "text/html": "<div>\n<style scoped>\n    .dataframe tbody tr th:only-of-type {\n        vertical-align: middle;\n    }\n\n    .dataframe tbody tr th {\n        vertical-align: top;\n    }\n\n    .dataframe thead th {\n        text-align: right;\n    }\n</style>\n<table border=\"1\" class=\"dataframe\">\n  <thead>\n    <tr style=\"text-align: right;\">\n      <th></th>\n      <th>CODFUND</th>\n      <th>DATA</th>\n      <th>COTA</th>\n    </tr>\n  </thead>\n  <tbody>\n    <tr>\n      <th>0</th>\n      <td>61921</td>\n      <td>2020-08-04</td>\n      <td>3.441227</td>\n    </tr>\n    <tr>\n      <th>1</th>\n      <td>61922</td>\n      <td>2020-08-04</td>\n      <td>3.284017</td>\n    </tr>\n    <tr>\n      <th>3</th>\n      <td>61981</td>\n      <td>2020-08-04</td>\n      <td>3.880689</td>\n    </tr>\n    <tr>\n      <th>4</th>\n      <td>61984</td>\n      <td>2020-08-04</td>\n      <td>6.533211</td>\n    </tr>\n    <tr>\n      <th>5</th>\n      <td>62006</td>\n      <td>2020-08-04</td>\n      <td>2.430590</td>\n    </tr>\n    <tr>\n      <th>...</th>\n      <td>...</td>\n      <td>...</td>\n      <td>...</td>\n    </tr>\n    <tr>\n      <th>106</th>\n      <td>64643</td>\n      <td>2020-08-04</td>\n      <td>1.153676</td>\n    </tr>\n    <tr>\n      <th>107</th>\n      <td>64425</td>\n      <td>2020-08-04</td>\n      <td>1.010060</td>\n    </tr>\n    <tr>\n      <th>108</th>\n      <td>64678</td>\n      <td>2020-08-04</td>\n      <td>1.017226</td>\n    </tr>\n    <tr>\n      <th>109</th>\n      <td>64607</td>\n      <td>2020-08-04</td>\n      <td>1.015937</td>\n    </tr>\n    <tr>\n      <th>110</th>\n      <td>64496</td>\n      <td>2020-08-04</td>\n      <td>1.000948</td>\n    </tr>\n  </tbody>\n</table>\n<p>109 rows × 3 columns</p>\n</div>"
     },
     "metadata": {},
     "execution_count": 22
    }
   ],
   "source": [
    "df = df[(df.CODFUND!=64480) & (df.CODFUND!=61923)]\n",
    "df"
   ]
  },
  {
   "cell_type": "code",
   "execution_count": 29,
   "metadata": {},
   "outputs": [
    {
     "output_type": "execute_result",
     "data": {
      "text/plain": "     CODFUND        DATA      COTA\n2      61923  2020-08-04  3.021783\n103    64480  2020-08-04  1.036908",
      "text/html": "<div>\n<style scoped>\n    .dataframe tbody tr th:only-of-type {\n        vertical-align: middle;\n    }\n\n    .dataframe tbody tr th {\n        vertical-align: top;\n    }\n\n    .dataframe thead th {\n        text-align: right;\n    }\n</style>\n<table border=\"1\" class=\"dataframe\">\n  <thead>\n    <tr style=\"text-align: right;\">\n      <th></th>\n      <th>CODFUND</th>\n      <th>DATA</th>\n      <th>COTA</th>\n    </tr>\n  </thead>\n  <tbody>\n    <tr>\n      <th>2</th>\n      <td>61923</td>\n      <td>2020-08-04</td>\n      <td>3.021783</td>\n    </tr>\n    <tr>\n      <th>103</th>\n      <td>64480</td>\n      <td>2020-08-04</td>\n      <td>1.036908</td>\n    </tr>\n  </tbody>\n</table>\n</div>"
     },
     "metadata": {},
     "execution_count": 29
    }
   ],
   "source": [
    "df[(df.CODFUND==64480) | (df.CODFUND==61923)]"
   ]
  },
  {
   "cell_type": "code",
   "execution_count": 15,
   "metadata": {},
   "outputs": [],
   "source": [
    "from sqlalchemy import create_engine\n",
    "import urllib\n",
    "quoted = urllib.parse.quote_plus('Driver={SQL Server};Server=EQNSQL02\\\\HOMOLOGASPXBANCO;Database=RIMovimentos;')\n",
    "engine = create_engine('mssql+pyodbc:///?odbc_connect={}'.format(quoted))"
   ]
  },
  {
   "cell_type": "code",
   "execution_count": 23,
   "metadata": {},
   "outputs": [],
   "source": [
    "df.to_sql('Cotas', schema='dbo', con = engine, if_exists = 'append', index=False)"
   ]
  }
 ]
}