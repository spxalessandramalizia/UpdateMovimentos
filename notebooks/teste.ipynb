{
 "metadata": {
  "language_info": {
   "codemirror_mode": {
    "name": "ipython",
    "version": 3
   },
   "file_extension": ".py",
   "mimetype": "text/x-python",
   "name": "python",
   "nbconvert_exporter": "python",
   "pygments_lexer": "ipython3",
   "version": 3
  },
  "orig_nbformat": 2,
  "kernelspec": {
   "name": "python_defaultSpec_1595627320659",
   "display_name": "Python 3.8.4 64-bit ('venv': venv)"
  }
 },
 "nbformat": 4,
 "nbformat_minor": 2,
 "cells": [
  {
   "cell_type": "code",
   "execution_count": 2,
   "metadata": {
    "tags": []
   },
   "outputs": [
    {
     "output_type": "stream",
     "name": "stdout",
     "text": "Hello world!\n"
    }
   ],
   "source": [
    "print('Hello world!')"
   ]
  },
  {
   "cell_type": "code",
   "execution_count": 3,
   "metadata": {},
   "outputs": [],
   "source": [
    "import pyodbc as db\n",
    "import pandas as pd"
   ]
  },
  {
   "cell_type": "code",
   "execution_count": 12,
   "metadata": {},
   "outputs": [
    {
     "output_type": "execute_result",
     "data": {
      "text/plain": "             CODCOT  CODFUND SOLICITACAO   COTIZACAO     IMPACTO OPERACAO  \\\n22236  1.458000e+03    62077  2010-11-30  2010-12-01  2010-12-01        A   \n22237  9.205900e+04    62077  2010-11-30  2010-12-01  2010-12-01        A   \n22242  1.146660e+05    62077  2010-12-01  2010-12-01  2010-12-01        A   \n22245  1.147330e+05    62077  2010-12-01  2010-12-01  2010-12-01        A   \n22247  1.001145e+08    62077  2010-12-01  2010-12-01  2010-12-01        A   \n...             ...      ...         ...         ...         ...      ...   \n42170  4.193000e+13    63999  2020-06-12  2020-12-31  2021-01-04       RT   \n42241  4.188000e+13    64271  2020-06-24  2020-12-31  2021-01-04        R   \n38828  4.188000e+13    62008  2020-05-19  2021-07-13  2021-07-15       RT   \n77667  4.188000e+13    62083  2020-05-13  2021-08-31  2021-09-01       RT   \n38827  4.188000e+13    62008  2020-07-14  2021-09-02  2021-09-06       RT   \n\n         FINANCEIRO  COTAS_SOLICITADO  COTAS_PREVISTO               ALOCADOR  \\\n22236  1.000000e+06               NaN             NaN            BTG PACTUAL   \n22237  2.000000e+06               NaN             NaN            BTG PACTUAL   \n22242  1.000000e+06               NaN             NaN                  TRIAR   \n22245  1.000000e+06               NaN             NaN                   CSHG   \n22247  1.000000e+06               NaN             NaN                     PF   \n...             ...               ...             ...                    ...   \n42170  1.559278e+07      1.500000e+07    1.500000e+07                 PERFIN   \n42241  1.000000e+07      0.000000e+00    9.616507e+06               BRADESCO   \n38828  9.109049e+05      3.070363e+05    3.070363e+05  SÓCIOS / FUNCIONÁRIOS   \n77667 -1.000000e+06      3.933134e+06   -2.699312e+05  SÓCIOS / FUNCIONÁRIOS   \n38827  0.000000e+00      5.122847e+06    0.000000e+00  SÓCIOS / FUNCIONÁRIOS   \n\n       CAUTELA  \n22236      0.0  \n22237      0.0  \n22242      0.0  \n22245      0.0  \n22247      0.0  \n...        ...  \n42170      0.0  \n42241      0.0  \n38828      0.0  \n77667      0.0  \n38827      0.0  \n\n[84787 rows x 11 columns]",
      "text/html": "<div>\n<style scoped>\n    .dataframe tbody tr th:only-of-type {\n        vertical-align: middle;\n    }\n\n    .dataframe tbody tr th {\n        vertical-align: top;\n    }\n\n    .dataframe thead th {\n        text-align: right;\n    }\n</style>\n<table border=\"1\" class=\"dataframe\">\n  <thead>\n    <tr style=\"text-align: right;\">\n      <th></th>\n      <th>CODCOT</th>\n      <th>CODFUND</th>\n      <th>SOLICITACAO</th>\n      <th>COTIZACAO</th>\n      <th>IMPACTO</th>\n      <th>OPERACAO</th>\n      <th>FINANCEIRO</th>\n      <th>COTAS_SOLICITADO</th>\n      <th>COTAS_PREVISTO</th>\n      <th>ALOCADOR</th>\n      <th>CAUTELA</th>\n    </tr>\n  </thead>\n  <tbody>\n    <tr>\n      <th>22236</th>\n      <td>1.458000e+03</td>\n      <td>62077</td>\n      <td>2010-11-30</td>\n      <td>2010-12-01</td>\n      <td>2010-12-01</td>\n      <td>A</td>\n      <td>1.000000e+06</td>\n      <td>NaN</td>\n      <td>NaN</td>\n      <td>BTG PACTUAL</td>\n      <td>0.0</td>\n    </tr>\n    <tr>\n      <th>22237</th>\n      <td>9.205900e+04</td>\n      <td>62077</td>\n      <td>2010-11-30</td>\n      <td>2010-12-01</td>\n      <td>2010-12-01</td>\n      <td>A</td>\n      <td>2.000000e+06</td>\n      <td>NaN</td>\n      <td>NaN</td>\n      <td>BTG PACTUAL</td>\n      <td>0.0</td>\n    </tr>\n    <tr>\n      <th>22242</th>\n      <td>1.146660e+05</td>\n      <td>62077</td>\n      <td>2010-12-01</td>\n      <td>2010-12-01</td>\n      <td>2010-12-01</td>\n      <td>A</td>\n      <td>1.000000e+06</td>\n      <td>NaN</td>\n      <td>NaN</td>\n      <td>TRIAR</td>\n      <td>0.0</td>\n    </tr>\n    <tr>\n      <th>22245</th>\n      <td>1.147330e+05</td>\n      <td>62077</td>\n      <td>2010-12-01</td>\n      <td>2010-12-01</td>\n      <td>2010-12-01</td>\n      <td>A</td>\n      <td>1.000000e+06</td>\n      <td>NaN</td>\n      <td>NaN</td>\n      <td>CSHG</td>\n      <td>0.0</td>\n    </tr>\n    <tr>\n      <th>22247</th>\n      <td>1.001145e+08</td>\n      <td>62077</td>\n      <td>2010-12-01</td>\n      <td>2010-12-01</td>\n      <td>2010-12-01</td>\n      <td>A</td>\n      <td>1.000000e+06</td>\n      <td>NaN</td>\n      <td>NaN</td>\n      <td>PF</td>\n      <td>0.0</td>\n    </tr>\n    <tr>\n      <th>...</th>\n      <td>...</td>\n      <td>...</td>\n      <td>...</td>\n      <td>...</td>\n      <td>...</td>\n      <td>...</td>\n      <td>...</td>\n      <td>...</td>\n      <td>...</td>\n      <td>...</td>\n      <td>...</td>\n    </tr>\n    <tr>\n      <th>42170</th>\n      <td>4.193000e+13</td>\n      <td>63999</td>\n      <td>2020-06-12</td>\n      <td>2020-12-31</td>\n      <td>2021-01-04</td>\n      <td>RT</td>\n      <td>1.559278e+07</td>\n      <td>1.500000e+07</td>\n      <td>1.500000e+07</td>\n      <td>PERFIN</td>\n      <td>0.0</td>\n    </tr>\n    <tr>\n      <th>42241</th>\n      <td>4.188000e+13</td>\n      <td>64271</td>\n      <td>2020-06-24</td>\n      <td>2020-12-31</td>\n      <td>2021-01-04</td>\n      <td>R</td>\n      <td>1.000000e+07</td>\n      <td>0.000000e+00</td>\n      <td>9.616507e+06</td>\n      <td>BRADESCO</td>\n      <td>0.0</td>\n    </tr>\n    <tr>\n      <th>38828</th>\n      <td>4.188000e+13</td>\n      <td>62008</td>\n      <td>2020-05-19</td>\n      <td>2021-07-13</td>\n      <td>2021-07-15</td>\n      <td>RT</td>\n      <td>9.109049e+05</td>\n      <td>3.070363e+05</td>\n      <td>3.070363e+05</td>\n      <td>SÓCIOS / FUNCIONÁRIOS</td>\n      <td>0.0</td>\n    </tr>\n    <tr>\n      <th>77667</th>\n      <td>4.188000e+13</td>\n      <td>62083</td>\n      <td>2020-05-13</td>\n      <td>2021-08-31</td>\n      <td>2021-09-01</td>\n      <td>RT</td>\n      <td>-1.000000e+06</td>\n      <td>3.933134e+06</td>\n      <td>-2.699312e+05</td>\n      <td>SÓCIOS / FUNCIONÁRIOS</td>\n      <td>0.0</td>\n    </tr>\n    <tr>\n      <th>38827</th>\n      <td>4.188000e+13</td>\n      <td>62008</td>\n      <td>2020-07-14</td>\n      <td>2021-09-02</td>\n      <td>2021-09-06</td>\n      <td>RT</td>\n      <td>0.000000e+00</td>\n      <td>5.122847e+06</td>\n      <td>0.000000e+00</td>\n      <td>SÓCIOS / FUNCIONÁRIOS</td>\n      <td>0.0</td>\n    </tr>\n  </tbody>\n</table>\n<p>84787 rows × 11 columns</p>\n</div>"
     },
     "metadata": {},
     "execution_count": 12
    }
   ],
   "source": [
    "conn = db.connect('Driver={SQL Server};Server=EQNSQL02\\\\HOMOLOGASPXBANCO;Database=RIMovimentos;Trusted_Connection=yes')\n",
    "\n",
    "movimentos = pd.read_sql_query('select * from Movimentacoes', conn)\n",
    "movimentos = movimentos.sort_values(['COTIZACAO', 'CODFUND'], ascending = (True,True))\n",
    "movimentos"
   ]
  },
  {
   "cell_type": "code",
   "execution_count": 13,
   "metadata": {},
   "outputs": [],
   "source": [
    "movimentos.to_csv('O:\\CAIXAS\\FLUXO\\Movimentacoes - Gerencial.csv', index=False)\n",
    "conn.close()"
   ]
  },
  {
   "cell_type": "code",
   "execution_count": null,
   "metadata": {},
   "outputs": [],
   "source": []
  }
 ]
}